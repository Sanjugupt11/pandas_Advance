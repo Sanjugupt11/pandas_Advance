{
 "cells": [
  {
   "cell_type": "code",
   "execution_count": 1,
   "id": "06a9b837-c34a-49aa-82a0-fc28ad38f1dc",
   "metadata": {},
   "outputs": [],
   "source": [
    "import pandas as pd\n"
   ]
  },
  {
   "cell_type": "code",
   "execution_count": 4,
   "id": "e27e430c-c012-4ce9-bb79-67aa91e04961",
   "metadata": {},
   "outputs": [
    {
     "name": "stdout",
     "output_type": "stream",
     "text": [
      "Requirement already satisfied: pandas in /opt/conda/lib/python3.10/site-packages (1.5.2)\n",
      "Requirement already satisfied: python-dateutil>=2.8.1 in /opt/conda/lib/python3.10/site-packages (from pandas) (2.8.2)\n",
      "Requirement already satisfied: pytz>=2020.1 in /opt/conda/lib/python3.10/site-packages (from pandas) (2022.6)\n",
      "Requirement already satisfied: numpy>=1.21.0 in /opt/conda/lib/python3.10/site-packages (from pandas) (1.23.5)\n",
      "Requirement already satisfied: six>=1.5 in /opt/conda/lib/python3.10/site-packages (from python-dateutil>=2.8.1->pandas) (1.16.0)\n",
      "Note: you may need to restart the kernel to use updated packages.\n"
     ]
    }
   ],
   "source": [
    "pip install pandas"
   ]
  },
  {
   "cell_type": "code",
   "execution_count": 2,
   "id": "71381d63-afc4-4521-9ebf-0313b44ad497",
   "metadata": {},
   "outputs": [
    {
     "name": "stdout",
     "output_type": "stream",
     "text": [
      "    Name  Age  Gender\n",
      "0  Alice   25  Female\n",
      "1    Bob   30    Male\n",
      "2  Clare   27  Female\n"
     ]
    },
    {
     "data": {
      "text/plain": [
       "array(['Alice', 'Bob', 'Clare'], dtype=object)"
      ]
     },
     "execution_count": 2,
     "metadata": {},
     "output_type": "execute_result"
    }
   ],
   "source": [
    "#Q1. List any five functions of the pandas library with execution.\n",
    "data = {'Name':['Alice','Bob','Clare'],\n",
    "\n",
    "          'Age':[25,30,27],\n",
    "\n",
    "        'Gender':['Female','Male','Female']}\n",
    "df = pd.DataFrame(data)\n",
    "\n",
    "print(df)\n",
    "df.head()\n",
    "df.tail()\n",
    "df.describe()\n",
    "df.max()\n",
    "df['Name'].unique()"
   ]
  },
  {
   "cell_type": "code",
   "execution_count": 16,
   "id": "0a8f35b2-5605-470b-8d8b-386492ec5055",
   "metadata": {},
   "outputs": [
    {
     "name": "stdout",
     "output_type": "stream",
     "text": [
      "   A  B  C\n",
      "1  1  4  7\n",
      "3  2  5  8\n",
      "5  3  6  9\n"
     ]
    }
   ],
   "source": [
    "'''Q2. Given a Pandas DataFrame df with columns 'A', 'B', and 'C', write a Python function to re-index the\n",
    "DataFrame with a new index that starts from 1 and increments by 2 for each row.'''\n",
    "def reindex_df(df):\n",
    "    new_index = pd.RangeIndex(start=1, step=2, stop=len(df)*2)\n",
    "    return df.set_index(new_index)\n",
    "df = pd.DataFrame({'A': [1, 2, 3], 'B': [4, 5, 6], 'C': [7, 8, 9]})\n",
    "reindexed_df = reindex_df(df)\n",
    "print(reindexed_df)"
   ]
  },
  {
   "cell_type": "code",
   "execution_count": 37,
   "id": "e8ce4418-aac0-4e5a-8a74-e35a3e842bde",
   "metadata": {},
   "outputs": [
    {
     "name": "stdout",
     "output_type": "stream",
     "text": [
      "60\n"
     ]
    }
   ],
   "source": [
    "'''Q3. You have a Pandas DataFrame df with a column named 'Values'. Write a Python function that\n",
    "iterates over the DataFrame and calculates the sum of the first three values in the 'Values' column. The\n",
    "function should print the sum to the console.\n",
    "For example, if the 'Values' column of df contains the values [10, 20, 30, 40, 50], your function should\n",
    "calculate and print the sum of the first three values, which is 60.'''\n",
    "#Ans \n",
    "\n",
    "import pandas as pd\n",
    "def Cal_add():\n",
    "    Ab=df['values'][:3].sum()\n",
    "    print(Ab)\n",
    "df = pd.DataFrame({'values': [10, 20, 30, 40, 50]})\n",
    "Cal_add()"
   ]
  },
  {
   "cell_type": "code",
   "execution_count": 53,
   "id": "609fd6df-acc1-4585-a40f-043f2466229f",
   "metadata": {},
   "outputs": [
    {
     "name": "stdout",
     "output_type": "stream",
     "text": [
      "    Name sir_name text new_text\n",
      "0  sanju    Gupta  abc      abc\n",
      "1  ranju    gupta  edf      edf\n",
      "2  manju    gupta  fgh      fgh\n"
     ]
    }
   ],
   "source": [
    "'''Q4. Given a Pandas DataFrame df with a column 'Text', write a Python function to create a new column\n",
    "'Word_Count' that contains the number of words in each row of the 'Text' column.'''\n",
    "import pandas as pd \n",
    "data={'Name':['sanju','ranju','manju'],\n",
    "     'sir_name':['Gupta','gupta','gupta'],\n",
    "     'text':['abc','edf','fgh']}\n",
    "df = pd.DataFrame(data)\n",
    "df['new_text']=df['text']\n",
    "print(df)\n"
   ]
  },
  {
   "cell_type": "code",
   "execution_count": 54,
   "id": "35b2c4b1-bd67-4b6e-b43b-5a6a52d53043",
   "metadata": {},
   "outputs": [
    {
     "name": "stdout",
     "output_type": "stream",
     "text": [
      "Data frame shape (3, 4)\n",
      "Data frame size 12\n",
      "    Name sir_name text new_text\n",
      "0  sanju    Gupta  abc      abc\n",
      "1  ranju    gupta  edf      edf\n",
      "2  manju    gupta  fgh      fgh\n"
     ]
    }
   ],
   "source": [
    "#Q5. How are DataFrame.size() and DataFrame.shape() different?\n",
    "\n",
    "Both DataFrame.size() and DataFrame.shape() are methods of a Pandas DataFrame that can be used to get information about its size and shape, but they return different types of information.\n",
    "\n",
    "DataFrame.shape() returns a tuple that contains the number of rows and columns in the DataFrame. The number of rows is represented by the first element of the tuple, and the number of columns is represented by the second element of the tuple. For example, if a DataFrame has 10 rows and 5 columns, DataFrame.shape() will return (10, 5).\n",
    "\n",
    "DataFrame.size() returns the total number of elements in the DataFrame, which is equal to the product of the number of rows and the number of columns. For example, if a DataFrame has 10 rows and 5 columns, DataFrame.size() will return 50.\n",
    "\n",
    "In summary, DataFrame.shape() returns the dimensions of the DataFrame (number of rows and columns), while DataFrame.size() returns the total number of elements in the DataFrame.\n",
    "\n",
    "import pandas as pd \n",
    "data={'Name':['sanju','ranju','manju'],\n",
    "     'sir_name':['Gupta','gupta','gupta'],\n",
    "     'text':['abc','edf','fgh']}\n",
    "df = pd.DataFrame(data)\n",
    "df['new_text']=df['text']\n",
    "print(\"Data frame shape\",df.shape)\n",
    "print(\"Data frame size\",df.size)\n",
    "print(df)\n"
   ]
  },
  {
   "cell_type": "code",
   "execution_count": null,
   "id": "7d8403ff-a322-4ae9-a325-81636ee17e6a",
   "metadata": {},
   "outputs": [],
   "source": [
    "Q6. Which function of pandas do we use to read an excel file?\n",
    "pd.read_excel(\"\")\n"
   ]
  },
  {
   "cell_type": "code",
   "execution_count": 71,
   "id": "c7852ea5-04da-4d34-a306-6dd5c03d6af4",
   "metadata": {},
   "outputs": [
    {
     "name": "stdout",
     "output_type": "stream",
     "text": [
      "    Name sir_name text         Email_id new_Emailid\n",
      "0  sanju    Gupta  abc  sanju@gmail.com       sanju\n",
      "1  ranju    gupta  edf  ranju@gmail.com       ranju\n",
      "2  manju    gupta  fgh  manju@gmail.com       manju\n"
     ]
    }
   ],
   "source": [
    "'''Q7. You have a Pandas DataFrame df that contains a column named 'Email' that contains email\n",
    "addresses in the format 'username@domain.com'. Write a Python function that creates a new column\n",
    "'Username' in df that contains only the username part of each email address.\n",
    "The username is the part of the email address that appears before the '@' symbol. For example, if the\n",
    "email address is 'john.doe@example.com', the 'Username' column should contain 'john.doe'. Your\n",
    "function should extract the username from each email address and store it in the new 'Username'\n",
    "column.'''\n",
    "\n",
    "import pandas as pd \n",
    "data={'Name':['sanju','ranju','manju'],\n",
    "     'sir_name':['Gupta','gupta','gupta'],\n",
    "     'text':['abc','edf','fgh'],\n",
    "      'Email_id':['sanju@gmail.com','ranju@gmail.com','manju@gmail.com']\n",
    "     }\n",
    "df = pd.DataFrame(data)\n",
    "df['new_Emailid']=df['Email_id'].str.split('@').str[0]\n",
    "print(df)\n"
   ]
  },
  {
   "cell_type": "code",
   "execution_count": null,
   "id": "895aaf1e-67f6-4386-837b-dbe304633d9e",
   "metadata": {},
   "outputs": [],
   "source": [
    "Q8. You have a Pandas DataFrame df with columns 'A', 'B', and 'C'. Write a Python function that selects\n",
    "all rows where the value in column 'A' is greater than 5 and the value in column 'B' is less than 10. The\n",
    "function should return a new DataFrame that contains only the selected rows.\n",
    "For example, if df contains the following values:\n",
    "  A B C\n",
    "0 3 5 1\n",
    "1 8 2 7\n",
    "2 6 9 4\n",
    "3 2 3 5\n",
    "4 9 1 2\n",
    "Your function should select the following rows: A B C\n",
    "1 8 2 7\n",
    "4 9 1 2\n",
    "The function should return a new DataFrame that contains only the selected rows."
   ]
  },
  {
   "cell_type": "code",
   "execution_count": 85,
   "id": "e40596c2-305e-4667-a160-f6f9b500052c",
   "metadata": {},
   "outputs": [
    {
     "name": "stdout",
     "output_type": "stream",
     "text": [
      "mean values    5.5\n",
      "dtype: float64\n",
      "median values    5.5\n",
      "dtype: float64\n",
      "standard deviation values    3.02765\n",
      "dtype: float64\n"
     ]
    }
   ],
   "source": [
    "#Q9. Given a Pandas DataFrame df with a column 'Values', write a Python function to calculate the mean,\n",
    "#median, and standard deviation of the values in the 'Values' column.\n",
    "import pandas as pd \n",
    "dta=({'values':[1,2,3,4,5,6,7,8,9,10]})\n",
    "df = pd.DataFrame(dta)\n",
    "\n",
    "print(\"mean\",df.mean())\n",
    "print(\"median\",df.median())\n",
    "print(\"standard deviation\",df.std())"
   ]
  },
  {
   "cell_type": "code",
   "execution_count": null,
   "id": "6330cc93-0232-4962-bf99-5ea12aac6ff4",
   "metadata": {},
   "outputs": [],
   "source": [
    "'''Q10. Given a Pandas DataFrame df with a column 'Sales' and a column 'Date', write a Python function to\n",
    "create a new column 'MovingAverage' that contains the moving average of the sales for the past 7 days\n",
    "for each row in the DataFrame. The moving average should be calculated using a window of size 7 and\n",
    "should include the current day.'''"
   ]
  },
  {
   "cell_type": "code",
   "execution_count": null,
   "id": "2659b7d8-1670-43ac-acc3-4ccc39ee09bf",
   "metadata": {},
   "outputs": [],
   "source": [
    "Q11. You have a Pandas DataFrame df with a column 'Date'. Write a Python function that creates a new\n",
    "column 'Weekday' in the DataFrame. The 'Weekday' column should contain the weekday name (e.g.\n",
    "Monday, Tuesday) corresponding to each date in the 'Date' column.\n",
    "For example, if df contains the following values:\n",
    "Date\n",
    "0 2023-01-01\n",
    "1 2023-01-02\n",
    "2 2023-01-03\n",
    "3 2023-01-04\n",
    "4 2023-01-05\n",
    "Your function should create the following DataFrame:\n",
    "\n",
    "Date Weekday\n",
    "0 2023-01-01 Sunday\n",
    "1 2023-01-02 Monday\n",
    "2 2023-01-03 Tuesday\n",
    "3 2023-01-04 Wednesday\n",
    "4 2023-01-05 Thursday\n",
    "The function should return the modified DataFrame."
   ]
  },
  {
   "cell_type": "code",
   "execution_count": 5,
   "id": "e462305e-73c3-4dfa-bc36-9bff7fe7e83f",
   "metadata": {},
   "outputs": [
    {
     "name": "stdout",
     "output_type": "stream",
     "text": [
      "        Date    Weekday\n",
      "0 2023-01-01     Sunday\n",
      "1 2023-01-02     Monday\n",
      "2 2023-01-03    Tuesday\n",
      "3 2023-01-04  Wednesday\n",
      "4 2023-09-05    Tuesday\n"
     ]
    }
   ],
   "source": [
    "import pandas as pd\n",
    "\n",
    "def add_weekday_column(df):\n",
    "    # Convert the 'Date' column to a datetime object\n",
    "    df['Date'] = pd.to_datetime(df['Date'])\n",
    "\n",
    "    # Create a new column 'Weekday' with the weekday name\n",
    "    df['Weekday'] = df['Date'].dt.day_name()\n",
    "\n",
    "    return df\n",
    "import pandas as pd\n",
    "\n",
    "# Create a sample DataFrame\n",
    "import pandas as pd\n",
    "\n",
    "# Create a sample DataFrame\n",
    "df = pd.DataFrame({\n",
    "    'Date': ['2023-01-01', '2023-01-02', '2023-01-03', '2023-01-04', '2023-09-05']\n",
    "})\n",
    "\n",
    "# Call the function to add the 'Weekday' column\n",
    "df = add_weekday_column(df)\n",
    "\n",
    "# Print the DataFrame\n",
    "print(df)\n"
   ]
  },
  {
   "cell_type": "code",
   "execution_count": null,
   "id": "9636c773-0173-4d99-9b5a-604a36f2eadb",
   "metadata": {},
   "outputs": [],
   "source": []
  },
  {
   "cell_type": "code",
   "execution_count": 10,
   "id": "940d2cec-fb62-4c5f-ba24-5f07c26cc5a4",
   "metadata": {},
   "outputs": [
    {
     "name": "stdout",
     "output_type": "stream",
     "text": [
      "        Date\n",
      "0 2023-01-01\n",
      "1 2023-01-31\n"
     ]
    }
   ],
   "source": [
    "'''Q12. Given a Pandas DataFrame df with a column 'Date' that contains timestamps, write a Python\n",
    "function to select all rows where the date is between '2023-01-01' and '2023-01-31'.'''\n",
    "#Answer:-\n",
    "import pandas as pd\n",
    "\n",
    "def select_january_data(df):\n",
    "    # Convert the 'Date' column to a datetime object\n",
    "    df['Date'] = pd.to_datetime(df['Date'])\n",
    "\n",
    "    # Create a boolean mask for the rows where the date is in January 2023\n",
    "    mask = (df['Date'] >= '2023-01-01') & (df['Date'] <= '2023-01-31')\n",
    "\n",
    "    # Use the boolean mask to select the rows\n",
    "    january_data = df.loc[mask]\n",
    "\n",
    "    return january_data\n",
    "import pandas as pd\n",
    "\n",
    "# Create a sample DataFrame\n",
    "df = pd.DataFrame({\n",
    "    'Date': ['2023-01-01', '2023-01-31', '2023-02-01', '2023-03-01']\n",
    "})\n",
    "\n",
    "# Call the function to select the January data\n",
    "january_data = select_january_data(df)\n",
    "\n",
    "# Print the January data\n",
    "print(january_data)\n"
   ]
  },
  {
   "cell_type": "code",
   "execution_count": null,
   "id": "d4dc4399-996b-481e-850c-b08749884743",
   "metadata": {},
   "outputs": [],
   "source": []
  },
  {
   "cell_type": "code",
   "execution_count": null,
   "id": "99e58e51-54d3-43b2-b598-0cfc0e3110ca",
   "metadata": {},
   "outputs": [],
   "source": [
    "'''Q13. To use the basic functions of pandas, what is the first and foremost necessary library that needs to\n",
    "be imported?'''\n",
    "Answer:- \n",
    "Installing and Getting Started with Pandas\n",
    "\n",
    "As Pandas is dependent on the NumPy library, we need to import this dependency.\n"
   ]
  },
  {
   "cell_type": "code",
   "execution_count": null,
   "id": "f9b79ccc-e76c-438d-a8fd-bff907eb4bdd",
   "metadata": {},
   "outputs": [],
   "source": []
  }
 ],
 "metadata": {
  "kernelspec": {
   "display_name": "Python 3 (ipykernel)",
   "language": "python",
   "name": "python3"
  },
  "language_info": {
   "codemirror_mode": {
    "name": "ipython",
    "version": 3
   },
   "file_extension": ".py",
   "mimetype": "text/x-python",
   "name": "python",
   "nbconvert_exporter": "python",
   "pygments_lexer": "ipython3",
   "version": "3.10.8"
  }
 },
 "nbformat": 4,
 "nbformat_minor": 5
}
